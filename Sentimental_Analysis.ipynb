{
  "nbformat": 4,
  "nbformat_minor": 0,
  "metadata": {
    "colab": {
      "provenance": [],
      "collapsed_sections": [],
      "mount_file_id": "1w8JqViNcp_Zz1vVzdpdz_zd5ecJ4S8ME",
      "authorship_tag": "ABX9TyOukJr5oHM0gju74TWNEGDQ",
      "include_colab_link": true
    },
    "kernelspec": {
      "name": "python3",
      "display_name": "Python 3"
    },
    "language_info": {
      "name": "python"
    }
  },
  "cells": [
    {
      "cell_type": "markdown",
      "metadata": {
        "id": "view-in-github",
        "colab_type": "text"
      },
      "source": [
        "<a href=\"https://colab.research.google.com/github/abhi-11nav/Financial_Sentiment_Analysis/blob/main/Sentimental_Analysis.ipynb\" target=\"_parent\"><img src=\"https://colab.research.google.com/assets/colab-badge.svg\" alt=\"Open In Colab\"/></a>"
      ]
    },
    {
      "cell_type": "markdown",
      "source": [
        "# Dataset credits\n",
        "\n",
        "https://www.kaggle.com/datasets/sbhatti/financial-sentiment-analysis"
      ],
      "metadata": {
        "id": "W7FSqlIjKKCo"
      }
    },
    {
      "cell_type": "code",
      "source": [
        "# Importing libraries for data-frame manipulation\n",
        "\n",
        "import pandas as pd"
      ],
      "metadata": {
        "id": "Xkbma-CTLQOL"
      },
      "execution_count": null,
      "outputs": []
    },
    {
      "cell_type": "code",
      "source": [
        "# Importing libraries required for text-preprocessing\n",
        "\n",
        "import nltk \n",
        "from nltk.stem import WordNetLemmatizer"
      ],
      "metadata": {
        "id": "1yXOf9RNgTyU"
      },
      "execution_count": null,
      "outputs": []
    },
    {
      "cell_type": "code",
      "source": [
        "from nltk.stem import PorterStemmer\n",
        "from nltk.corpus import stopwords"
      ],
      "metadata": {
        "id": "jpOnJ7XZgT1a"
      },
      "execution_count": null,
      "outputs": []
    },
    {
      "cell_type": "code",
      "source": [
        "# Path of the dataset\n",
        "\n",
        "dataset_link = \"/content/drive/MyDrive/Financial Sentiment Analysis/data.csv\""
      ],
      "metadata": {
        "id": "OH0S_teHgUKg"
      },
      "execution_count": null,
      "outputs": []
    },
    {
      "cell_type": "code",
      "source": [
        "# Importing the data and storing it in a variable\n",
        "\n",
        "dataset = pd.read_csv(dataset_link)"
      ],
      "metadata": {
        "id": "Kas582YWgUNX"
      },
      "execution_count": null,
      "outputs": []
    },
    {
      "cell_type": "code",
      "source": [
        "dataset.head()"
      ],
      "metadata": {
        "id": "hUkrg_q3gUQg",
        "colab": {
          "base_uri": "https://localhost:8080/",
          "height": 204
        },
        "outputId": "b1b70740-65cd-40bf-8b44-2d98595be6e9"
      },
      "execution_count": null,
      "outputs": [
        {
          "output_type": "execute_result",
          "data": {
            "text/plain": [
              "                                            Sentence Sentiment\n",
              "0  The GeoSolutions technology will leverage Bene...  positive\n",
              "1  $ESI on lows, down $1.50 to $2.50 BK a real po...  negative\n",
              "2  For the last quarter of 2010 , Componenta 's n...  positive\n",
              "3  According to the Finnish-Russian Chamber of Co...   neutral\n",
              "4  The Swedish buyout firm has sold its remaining...   neutral"
            ],
            "text/html": [
              "\n",
              "  <div id=\"df-8e87e728-6992-41ee-955f-25d81c1f5e89\">\n",
              "    <div class=\"colab-df-container\">\n",
              "      <div>\n",
              "<style scoped>\n",
              "    .dataframe tbody tr th:only-of-type {\n",
              "        vertical-align: middle;\n",
              "    }\n",
              "\n",
              "    .dataframe tbody tr th {\n",
              "        vertical-align: top;\n",
              "    }\n",
              "\n",
              "    .dataframe thead th {\n",
              "        text-align: right;\n",
              "    }\n",
              "</style>\n",
              "<table border=\"1\" class=\"dataframe\">\n",
              "  <thead>\n",
              "    <tr style=\"text-align: right;\">\n",
              "      <th></th>\n",
              "      <th>Sentence</th>\n",
              "      <th>Sentiment</th>\n",
              "    </tr>\n",
              "  </thead>\n",
              "  <tbody>\n",
              "    <tr>\n",
              "      <th>0</th>\n",
              "      <td>The GeoSolutions technology will leverage Bene...</td>\n",
              "      <td>positive</td>\n",
              "    </tr>\n",
              "    <tr>\n",
              "      <th>1</th>\n",
              "      <td>$ESI on lows, down $1.50 to $2.50 BK a real po...</td>\n",
              "      <td>negative</td>\n",
              "    </tr>\n",
              "    <tr>\n",
              "      <th>2</th>\n",
              "      <td>For the last quarter of 2010 , Componenta 's n...</td>\n",
              "      <td>positive</td>\n",
              "    </tr>\n",
              "    <tr>\n",
              "      <th>3</th>\n",
              "      <td>According to the Finnish-Russian Chamber of Co...</td>\n",
              "      <td>neutral</td>\n",
              "    </tr>\n",
              "    <tr>\n",
              "      <th>4</th>\n",
              "      <td>The Swedish buyout firm has sold its remaining...</td>\n",
              "      <td>neutral</td>\n",
              "    </tr>\n",
              "  </tbody>\n",
              "</table>\n",
              "</div>\n",
              "      <button class=\"colab-df-convert\" onclick=\"convertToInteractive('df-8e87e728-6992-41ee-955f-25d81c1f5e89')\"\n",
              "              title=\"Convert this dataframe to an interactive table.\"\n",
              "              style=\"display:none;\">\n",
              "        \n",
              "  <svg xmlns=\"http://www.w3.org/2000/svg\" height=\"24px\"viewBox=\"0 0 24 24\"\n",
              "       width=\"24px\">\n",
              "    <path d=\"M0 0h24v24H0V0z\" fill=\"none\"/>\n",
              "    <path d=\"M18.56 5.44l.94 2.06.94-2.06 2.06-.94-2.06-.94-.94-2.06-.94 2.06-2.06.94zm-11 1L8.5 8.5l.94-2.06 2.06-.94-2.06-.94L8.5 2.5l-.94 2.06-2.06.94zm10 10l.94 2.06.94-2.06 2.06-.94-2.06-.94-.94-2.06-.94 2.06-2.06.94z\"/><path d=\"M17.41 7.96l-1.37-1.37c-.4-.4-.92-.59-1.43-.59-.52 0-1.04.2-1.43.59L10.3 9.45l-7.72 7.72c-.78.78-.78 2.05 0 2.83L4 21.41c.39.39.9.59 1.41.59.51 0 1.02-.2 1.41-.59l7.78-7.78 2.81-2.81c.8-.78.8-2.07 0-2.86zM5.41 20L4 18.59l7.72-7.72 1.47 1.35L5.41 20z\"/>\n",
              "  </svg>\n",
              "      </button>\n",
              "      \n",
              "  <style>\n",
              "    .colab-df-container {\n",
              "      display:flex;\n",
              "      flex-wrap:wrap;\n",
              "      gap: 12px;\n",
              "    }\n",
              "\n",
              "    .colab-df-convert {\n",
              "      background-color: #E8F0FE;\n",
              "      border: none;\n",
              "      border-radius: 50%;\n",
              "      cursor: pointer;\n",
              "      display: none;\n",
              "      fill: #1967D2;\n",
              "      height: 32px;\n",
              "      padding: 0 0 0 0;\n",
              "      width: 32px;\n",
              "    }\n",
              "\n",
              "    .colab-df-convert:hover {\n",
              "      background-color: #E2EBFA;\n",
              "      box-shadow: 0px 1px 2px rgba(60, 64, 67, 0.3), 0px 1px 3px 1px rgba(60, 64, 67, 0.15);\n",
              "      fill: #174EA6;\n",
              "    }\n",
              "\n",
              "    [theme=dark] .colab-df-convert {\n",
              "      background-color: #3B4455;\n",
              "      fill: #D2E3FC;\n",
              "    }\n",
              "\n",
              "    [theme=dark] .colab-df-convert:hover {\n",
              "      background-color: #434B5C;\n",
              "      box-shadow: 0px 1px 3px 1px rgba(0, 0, 0, 0.15);\n",
              "      filter: drop-shadow(0px 1px 2px rgba(0, 0, 0, 0.3));\n",
              "      fill: #FFFFFF;\n",
              "    }\n",
              "  </style>\n",
              "\n",
              "      <script>\n",
              "        const buttonEl =\n",
              "          document.querySelector('#df-8e87e728-6992-41ee-955f-25d81c1f5e89 button.colab-df-convert');\n",
              "        buttonEl.style.display =\n",
              "          google.colab.kernel.accessAllowed ? 'block' : 'none';\n",
              "\n",
              "        async function convertToInteractive(key) {\n",
              "          const element = document.querySelector('#df-8e87e728-6992-41ee-955f-25d81c1f5e89');\n",
              "          const dataTable =\n",
              "            await google.colab.kernel.invokeFunction('convertToInteractive',\n",
              "                                                     [key], {});\n",
              "          if (!dataTable) return;\n",
              "\n",
              "          const docLinkHtml = 'Like what you see? Visit the ' +\n",
              "            '<a target=\"_blank\" href=https://colab.research.google.com/notebooks/data_table.ipynb>data table notebook</a>'\n",
              "            + ' to learn more about interactive tables.';\n",
              "          element.innerHTML = '';\n",
              "          dataTable['output_type'] = 'display_data';\n",
              "          await google.colab.output.renderOutput(dataTable, element);\n",
              "          const docLink = document.createElement('div');\n",
              "          docLink.innerHTML = docLinkHtml;\n",
              "          element.appendChild(docLink);\n",
              "        }\n",
              "      </script>\n",
              "    </div>\n",
              "  </div>\n",
              "  "
            ]
          },
          "metadata": {},
          "execution_count": 43
        }
      ]
    },
    {
      "cell_type": "code",
      "source": [
        "# Let us explore some charactertistics of the data\n",
        "\n",
        "dataset.shape"
      ],
      "metadata": {
        "id": "LTYStiyggUTX",
        "colab": {
          "base_uri": "https://localhost:8080/"
        },
        "outputId": "2e7778bd-f74e-49aa-a477-f0dec81a1bcc"
      },
      "execution_count": null,
      "outputs": [
        {
          "output_type": "execute_result",
          "data": {
            "text/plain": [
              "(5842, 2)"
            ]
          },
          "metadata": {},
          "execution_count": 44
        }
      ]
    },
    {
      "cell_type": "code",
      "source": [
        "dataset[\"Sentiment\"].value_counts()"
      ],
      "metadata": {
        "colab": {
          "base_uri": "https://localhost:8080/"
        },
        "id": "A-rV5WrSLmoG",
        "outputId": "1bd04109-277e-48ad-9f74-25258254be31"
      },
      "execution_count": null,
      "outputs": [
        {
          "output_type": "execute_result",
          "data": {
            "text/plain": [
              "neutral     3130\n",
              "positive    1852\n",
              "negative     860\n",
              "Name: Sentiment, dtype: int64"
            ]
          },
          "metadata": {},
          "execution_count": 45
        }
      ]
    },
    {
      "cell_type": "markdown",
      "source": [
        "### Text cleaning and pre-processing "
      ],
      "metadata": {
        "id": "x742tAy-PEb1"
      }
    },
    {
      "cell_type": "code",
      "source": [
        "# Defining a function for cleaning the text - removing punctuations and rearraging the text\n",
        "\n",
        "import re \n",
        "\n",
        "def clean_text(dataset, list_name):\n",
        "  for i in range(dataset.shape[0]):\n",
        "    list_name.append(re.sub('[^a-zA-Z]',' ',str(dataset.iloc[i,0])))\n",
        "  for x in range(len(list_name)):\n",
        "    list_name[x] = \" \".join(x for x in str(list_name[x]).split()).lower()"
      ],
      "metadata": {
        "id": "-1HXLcxnPDN-"
      },
      "execution_count": null,
      "outputs": []
    },
    {
      "cell_type": "code",
      "source": [
        "clean_corpus = []\n",
        "\n",
        "clean_text(dataset, clean_corpus)"
      ],
      "metadata": {
        "id": "fC7bR5bov8a3"
      },
      "execution_count": null,
      "outputs": []
    },
    {
      "cell_type": "markdown",
      "source": [],
      "metadata": {
        "id": "Vb-lHIMnWqtG"
      }
    },
    {
      "cell_type": "markdown",
      "source": [],
      "metadata": {
        "id": "T8tG_NPrWqoM"
      }
    },
    {
      "cell_type": "markdown",
      "source": [
        "All the text is converted to lower case and special characters are eliminated"
      ],
      "metadata": {
        "id": "oITnr_SV0jBK"
      }
    },
    {
      "cell_type": "code",
      "source": [
        "# Importing libraries for performing lemmatizer \n",
        "\n",
        "from nltk.stem import WordNetLemmatizer\n",
        "lemmatizer = WordNetLemmatizer()\n",
        "\n",
        "nltk.download('stopwords')\n",
        "nltk.download('wordnet')\n",
        "nltk.download('omw-1.4')"
      ],
      "metadata": {
        "id": "36mHaGMJLoND",
        "colab": {
          "base_uri": "https://localhost:8080/"
        },
        "outputId": "2152c0e3-4e46-4e6b-89e8-2f07e954dcf0"
      },
      "execution_count": null,
      "outputs": [
        {
          "output_type": "stream",
          "name": "stderr",
          "text": [
            "[nltk_data] Downloading package stopwords to /root/nltk_data...\n",
            "[nltk_data]   Package stopwords is already up-to-date!\n",
            "[nltk_data] Downloading package wordnet to /root/nltk_data...\n",
            "[nltk_data]   Package wordnet is already up-to-date!\n",
            "[nltk_data] Downloading package omw-1.4 to /root/nltk_data...\n",
            "[nltk_data]   Package omw-1.4 is already up-to-date!\n"
          ]
        },
        {
          "output_type": "execute_result",
          "data": {
            "text/plain": [
              "True"
            ]
          },
          "metadata": {},
          "execution_count": 48
        }
      ]
    },
    {
      "cell_type": "code",
      "source": [
        "# Applying lemmatization for everyword in the list\n",
        "\n",
        "for index in range(len(clean_corpus)):\n",
        "  \n",
        "  for word in clean_corpus[index].split():\n",
        "    if word not in stopwords.words(\"english\"):\n",
        "      clean_corpus[index] = clean_corpus[index].replace(word, lemmatizer.lemmatize(word))"
      ],
      "metadata": {
        "id": "GlS3nULuOn11"
      },
      "execution_count": null,
      "outputs": []
    },
    {
      "cell_type": "code",
      "source": [
        "# Getting rid of the stopwords in the data\n",
        "\n",
        "for index in range(len(clean_corpus)):\n",
        "  sentence = \"\"\n",
        "  for word in clean_corpus[index].split():\n",
        "    if word not in stopwords.words(\"english\"):\n",
        "      sentence += word+\" \"\n",
        "  clean_corpus[index] = str(sentence)"
      ],
      "metadata": {
        "id": "_YTqYVEh717s"
      },
      "execution_count": null,
      "outputs": []
    },
    {
      "cell_type": "code",
      "source": [
        "# Verfying that there are no stop words in teh sentences \n",
        "\n",
        "for x in range(len(clean_corpus)):\n",
        "  for word in clean_corpus[x].split():\n",
        "    if word in stopwords.words(\"english\"):\n",
        "      print(\"ERROR\")"
      ],
      "metadata": {
        "id": "E2AOPr89OtDb"
      },
      "execution_count": null,
      "outputs": []
    },
    {
      "cell_type": "code",
      "source": [
        "from sklearn.feature_extraction.text import TfidfVectorizer"
      ],
      "metadata": {
        "id": "ER4xiBKT7IwL"
      },
      "execution_count": null,
      "outputs": []
    },
    {
      "cell_type": "code",
      "source": [
        "tf_idf = TfidfVectorizer()"
      ],
      "metadata": {
        "id": "2WG1Fjv9si3o"
      },
      "execution_count": null,
      "outputs": []
    },
    {
      "cell_type": "code",
      "source": [
        "X = tf_idf.fit_transform(clean_corpus)"
      ],
      "metadata": {
        "id": "33phOyOPsl5B"
      },
      "execution_count": null,
      "outputs": []
    },
    {
      "cell_type": "code",
      "source": [
        "from sklearn.feature_extraction.text import CountVectorizer\n",
        "cv = CountVectorizer()\n",
        "X = cv.fit_transform(clean_corpus)"
      ],
      "metadata": {
        "id": "IYt2UpwiTF5E"
      },
      "execution_count": null,
      "outputs": []
    },
    {
      "cell_type": "code",
      "source": [
        "from sklearn.ensemble import RandomForestClassifier"
      ],
      "metadata": {
        "id": "I8a8M6eV7KCQ"
      },
      "execution_count": null,
      "outputs": []
    },
    {
      "cell_type": "code",
      "source": [
        "from sklearn.model_selection import train_test_split\n",
        "\n",
        "train_X, test_X, train_y, test_y = train_test_split(X, dataset[\"Sentiment\"], test_size=0.2, random_state=101)"
      ],
      "metadata": {
        "id": "V0L7BFVzJyoc"
      },
      "execution_count": null,
      "outputs": []
    },
    {
      "cell_type": "code",
      "source": [
        "rf_classifier = RandomForestClassifier()"
      ],
      "metadata": {
        "id": "ubEsk9VJLCCE"
      },
      "execution_count": null,
      "outputs": []
    },
    {
      "cell_type": "code",
      "source": [
        "rf_classifier.fit(train_X, train_y)"
      ],
      "metadata": {
        "colab": {
          "base_uri": "https://localhost:8080/"
        },
        "id": "lJUyogzFLNK4",
        "outputId": "0cde91e8-eec4-4dc8-e462-c403d43dea0a"
      },
      "execution_count": null,
      "outputs": [
        {
          "output_type": "execute_result",
          "data": {
            "text/plain": [
              "RandomForestClassifier()"
            ]
          },
          "metadata": {},
          "execution_count": 59
        }
      ]
    },
    {
      "cell_type": "code",
      "source": [
        "from sklearn.metrics import accuracy_score"
      ],
      "metadata": {
        "id": "g6zHPDrpLdV5"
      },
      "execution_count": null,
      "outputs": []
    },
    {
      "cell_type": "code",
      "source": [
        "print(accuracy_score(test_y, rf_classifier.predict(test_X)))\n"
      ],
      "metadata": {
        "colab": {
          "base_uri": "https://localhost:8080/"
        },
        "id": "Zrg0NLALL5qN",
        "outputId": "2a09a8ad-3406-414d-fbb6-f455706cc989"
      },
      "execution_count": null,
      "outputs": [
        {
          "output_type": "stream",
          "name": "stdout",
          "text": [
            "0.6424294268605646\n"
          ]
        }
      ]
    },
    {
      "cell_type": "code",
      "source": [
        "import pickle "
      ],
      "metadata": {
        "id": "2aR2TV2DMSTb"
      },
      "execution_count": null,
      "outputs": []
    },
    {
      "cell_type": "code",
      "source": [
        "file = open(\"nlp_model.pkl\", \"wb\")\n",
        "file2 = open(\"vectorizer.pkl\", \"wb\")\n",
        "\n",
        "pickle.dump(rf_classifier, file)\n",
        "pickle.dump(tf_idf, file2)"
      ],
      "metadata": {
        "id": "IsTX3rxBRoYQ"
      },
      "execution_count": null,
      "outputs": []
    },
    {
      "cell_type": "code",
      "source": [
        "file.close()\n",
        "file2.close()"
      ],
      "metadata": {
        "id": "Wpno6WzdbzAC"
      },
      "execution_count": null,
      "outputs": []
    },
    {
      "cell_type": "code",
      "source": [],
      "metadata": {
        "id": "7rwdeRXybzHC"
      },
      "execution_count": null,
      "outputs": []
    },
    {
      "cell_type": "code",
      "source": [
        "classifier.predict(test_X)"
      ],
      "metadata": {
        "id": "Ea0hkgOjTOKi",
        "colab": {
          "base_uri": "https://localhost:8080/"
        },
        "outputId": "8e1818e7-c0b0-4f89-d2a7-ca90e3b63259"
      },
      "execution_count": null,
      "outputs": [
        {
          "output_type": "execute_result",
          "data": {
            "text/plain": [
              "array(['neutral', 'neutral', 'neutral', 'positive', 'neutral', 'neutral',\n",
              "       'neutral', 'neutral', 'neutral', 'neutral', 'neutral', 'neutral',\n",
              "       'positive', 'neutral', 'neutral', 'neutral', 'neutral', 'positive',\n",
              "       'neutral', 'neutral', 'neutral', 'neutral', 'neutral', 'neutral',\n",
              "       'neutral', 'neutral', 'positive', 'neutral', 'neutral', 'neutral',\n",
              "       'neutral', 'neutral', 'neutral', 'positive', 'neutral', 'neutral',\n",
              "       'neutral', 'neutral', 'neutral', 'neutral', 'positive', 'positive',\n",
              "       'neutral', 'neutral', 'neutral', 'neutral', 'neutral', 'positive',\n",
              "       'positive', 'neutral', 'neutral', 'negative', 'neutral', 'neutral',\n",
              "       'neutral', 'neutral', 'positive', 'neutral', 'neutral', 'neutral',\n",
              "       'neutral', 'neutral', 'neutral', 'positive', 'neutral', 'neutral',\n",
              "       'neutral', 'neutral', 'neutral', 'neutral', 'neutral', 'neutral',\n",
              "       'neutral', 'neutral', 'neutral', 'positive', 'neutral', 'neutral',\n",
              "       'neutral', 'neutral', 'neutral', 'positive', 'neutral', 'neutral',\n",
              "       'positive', 'neutral', 'neutral', 'neutral', 'neutral', 'negative',\n",
              "       'neutral', 'neutral', 'positive', 'neutral', 'neutral', 'neutral',\n",
              "       'neutral', 'neutral', 'neutral', 'neutral', 'positive', 'positive',\n",
              "       'neutral', 'neutral', 'neutral', 'neutral', 'neutral', 'neutral',\n",
              "       'positive', 'neutral', 'neutral', 'positive', 'neutral', 'neutral',\n",
              "       'neutral', 'neutral', 'neutral', 'neutral', 'neutral', 'neutral',\n",
              "       'neutral', 'neutral', 'neutral', 'positive', 'neutral', 'neutral',\n",
              "       'neutral', 'neutral', 'neutral', 'neutral', 'positive', 'neutral',\n",
              "       'neutral', 'neutral', 'neutral', 'neutral', 'negative', 'neutral',\n",
              "       'neutral', 'neutral', 'neutral', 'negative', 'neutral', 'neutral',\n",
              "       'neutral', 'neutral', 'neutral', 'neutral', 'neutral', 'neutral',\n",
              "       'neutral', 'neutral', 'positive', 'neutral', 'neutral', 'neutral',\n",
              "       'neutral', 'neutral', 'positive', 'neutral', 'neutral', 'neutral',\n",
              "       'neutral', 'positive', 'neutral', 'neutral', 'neutral', 'neutral',\n",
              "       'positive', 'neutral', 'neutral', 'neutral', 'neutral', 'neutral',\n",
              "       'neutral', 'neutral', 'neutral', 'neutral', 'neutral', 'neutral',\n",
              "       'neutral', 'neutral', 'neutral', 'neutral', 'neutral', 'neutral',\n",
              "       'neutral', 'neutral', 'neutral', 'neutral', 'neutral', 'neutral',\n",
              "       'neutral', 'positive', 'neutral', 'neutral', 'positive',\n",
              "       'positive', 'neutral', 'neutral', 'neutral', 'neutral', 'neutral',\n",
              "       'neutral', 'positive', 'neutral', 'neutral', 'neutral', 'positive',\n",
              "       'neutral', 'positive', 'neutral', 'neutral', 'neutral', 'neutral',\n",
              "       'neutral', 'neutral', 'positive', 'neutral', 'neutral', 'neutral',\n",
              "       'neutral', 'neutral', 'neutral', 'positive', 'neutral', 'neutral',\n",
              "       'neutral', 'neutral', 'neutral', 'neutral', 'neutral', 'neutral',\n",
              "       'neutral', 'neutral', 'positive', 'neutral', 'neutral', 'neutral',\n",
              "       'neutral', 'neutral', 'neutral', 'neutral', 'positive', 'neutral',\n",
              "       'neutral', 'neutral', 'neutral', 'neutral', 'neutral', 'positive',\n",
              "       'neutral', 'neutral', 'positive', 'neutral', 'neutral', 'neutral',\n",
              "       'neutral', 'neutral', 'neutral', 'neutral', 'neutral', 'neutral',\n",
              "       'neutral', 'neutral', 'neutral', 'positive', 'neutral', 'neutral',\n",
              "       'positive', 'neutral', 'positive', 'neutral', 'neutral',\n",
              "       'positive', 'neutral', 'neutral', 'neutral', 'neutral', 'neutral',\n",
              "       'positive', 'positive', 'neutral', 'neutral', 'positive',\n",
              "       'positive', 'neutral', 'neutral', 'positive', 'neutral',\n",
              "       'positive', 'neutral', 'positive', 'neutral', 'neutral', 'neutral',\n",
              "       'neutral', 'positive', 'neutral', 'positive', 'neutral', 'neutral',\n",
              "       'neutral', 'neutral', 'neutral', 'neutral', 'neutral', 'neutral',\n",
              "       'positive', 'neutral', 'neutral', 'neutral', 'neutral', 'neutral',\n",
              "       'positive', 'neutral', 'neutral', 'neutral', 'neutral', 'positive',\n",
              "       'negative', 'neutral', 'neutral', 'neutral', 'neutral', 'neutral',\n",
              "       'positive', 'neutral', 'neutral', 'neutral', 'neutral', 'neutral',\n",
              "       'neutral', 'neutral', 'neutral', 'neutral', 'neutral', 'neutral',\n",
              "       'neutral', 'neutral', 'neutral', 'positive', 'neutral', 'positive',\n",
              "       'neutral', 'neutral', 'neutral', 'neutral', 'neutral', 'negative',\n",
              "       'neutral', 'neutral', 'neutral', 'neutral', 'neutral', 'neutral',\n",
              "       'neutral', 'neutral', 'neutral', 'neutral', 'neutral', 'positive',\n",
              "       'neutral', 'neutral', 'neutral', 'neutral', 'neutral', 'neutral',\n",
              "       'neutral', 'positive', 'neutral', 'neutral', 'neutral', 'neutral',\n",
              "       'neutral', 'neutral', 'neutral', 'positive', 'neutral', 'positive',\n",
              "       'neutral', 'neutral', 'neutral', 'neutral', 'neutral', 'neutral',\n",
              "       'neutral', 'neutral', 'positive', 'positive', 'neutral', 'neutral',\n",
              "       'neutral', 'neutral', 'positive', 'neutral', 'neutral', 'neutral',\n",
              "       'neutral', 'positive', 'neutral', 'neutral', 'neutral', 'neutral',\n",
              "       'neutral', 'positive', 'neutral', 'neutral', 'neutral', 'neutral',\n",
              "       'neutral', 'neutral', 'neutral', 'positive', 'positive', 'neutral',\n",
              "       'neutral', 'neutral', 'neutral', 'neutral', 'neutral', 'neutral',\n",
              "       'neutral', 'positive', 'positive', 'neutral', 'neutral', 'neutral',\n",
              "       'neutral', 'neutral', 'neutral', 'neutral', 'neutral', 'positive',\n",
              "       'neutral', 'neutral', 'neutral', 'neutral', 'neutral', 'neutral',\n",
              "       'positive', 'neutral', 'neutral', 'neutral', 'neutral', 'neutral',\n",
              "       'neutral', 'neutral', 'neutral', 'positive', 'positive', 'neutral',\n",
              "       'neutral', 'neutral', 'neutral', 'neutral', 'neutral', 'neutral',\n",
              "       'neutral', 'neutral', 'neutral', 'neutral', 'neutral', 'neutral',\n",
              "       'neutral', 'neutral', 'positive', 'neutral', 'negative', 'neutral',\n",
              "       'neutral', 'neutral', 'neutral', 'neutral', 'neutral', 'neutral',\n",
              "       'neutral', 'neutral', 'neutral', 'neutral', 'neutral', 'neutral',\n",
              "       'neutral', 'positive', 'neutral', 'neutral', 'neutral', 'neutral',\n",
              "       'neutral', 'neutral', 'positive', 'neutral', 'positive', 'neutral',\n",
              "       'neutral', 'neutral', 'neutral', 'negative', 'neutral', 'neutral',\n",
              "       'neutral', 'neutral', 'neutral', 'neutral', 'neutral', 'neutral',\n",
              "       'neutral', 'neutral', 'neutral', 'neutral', 'positive', 'neutral',\n",
              "       'neutral', 'neutral', 'neutral', 'neutral', 'neutral', 'neutral',\n",
              "       'neutral', 'neutral', 'neutral', 'neutral', 'neutral', 'positive',\n",
              "       'neutral', 'neutral', 'neutral', 'neutral', 'positive', 'neutral',\n",
              "       'neutral', 'neutral', 'positive', 'neutral', 'neutral', 'neutral',\n",
              "       'neutral', 'positive', 'neutral', 'neutral', 'neutral', 'neutral',\n",
              "       'neutral', 'neutral', 'neutral', 'neutral', 'neutral', 'neutral',\n",
              "       'neutral', 'neutral', 'neutral', 'negative', 'neutral', 'neutral',\n",
              "       'neutral', 'neutral', 'positive', 'neutral', 'positive', 'neutral',\n",
              "       'neutral', 'neutral', 'neutral', 'neutral', 'neutral', 'neutral',\n",
              "       'neutral', 'neutral', 'neutral', 'neutral', 'positive', 'neutral',\n",
              "       'neutral', 'neutral', 'neutral', 'neutral', 'positive', 'negative',\n",
              "       'positive', 'neutral', 'neutral', 'neutral', 'neutral', 'neutral',\n",
              "       'positive', 'neutral', 'neutral', 'neutral', 'neutral', 'neutral',\n",
              "       'negative', 'positive', 'neutral', 'neutral', 'neutral', 'neutral',\n",
              "       'neutral', 'neutral', 'neutral', 'neutral', 'positive', 'neutral',\n",
              "       'neutral', 'neutral', 'neutral', 'neutral', 'neutral', 'neutral',\n",
              "       'neutral', 'neutral', 'neutral', 'positive', 'neutral', 'positive',\n",
              "       'neutral', 'neutral', 'neutral', 'neutral', 'neutral', 'neutral',\n",
              "       'neutral', 'neutral', 'neutral', 'neutral', 'neutral', 'neutral',\n",
              "       'neutral', 'positive', 'positive', 'neutral', 'positive',\n",
              "       'neutral', 'neutral', 'neutral', 'neutral', 'neutral', 'neutral',\n",
              "       'neutral', 'neutral', 'neutral', 'neutral', 'neutral', 'neutral',\n",
              "       'neutral', 'neutral', 'neutral', 'positive', 'neutral', 'neutral',\n",
              "       'neutral', 'neutral', 'neutral', 'neutral', 'neutral', 'negative',\n",
              "       'neutral', 'neutral', 'neutral', 'neutral', 'neutral', 'neutral',\n",
              "       'neutral', 'neutral', 'neutral', 'neutral', 'neutral', 'neutral',\n",
              "       'neutral', 'neutral', 'neutral', 'positive', 'neutral', 'neutral',\n",
              "       'neutral', 'neutral', 'neutral', 'neutral', 'neutral', 'neutral',\n",
              "       'neutral', 'positive', 'neutral', 'neutral', 'neutral', 'neutral',\n",
              "       'neutral', 'neutral', 'neutral', 'neutral', 'positive', 'neutral',\n",
              "       'neutral', 'neutral', 'neutral', 'neutral', 'neutral', 'positive',\n",
              "       'neutral', 'neutral', 'neutral', 'neutral', 'neutral', 'neutral',\n",
              "       'positive', 'neutral', 'neutral', 'neutral', 'neutral', 'neutral',\n",
              "       'neutral', 'positive', 'neutral', 'positive', 'neutral', 'neutral',\n",
              "       'neutral', 'neutral', 'neutral', 'neutral', 'neutral', 'neutral',\n",
              "       'neutral', 'neutral', 'neutral', 'neutral', 'neutral', 'neutral',\n",
              "       'positive', 'neutral', 'neutral', 'neutral', 'neutral', 'neutral',\n",
              "       'neutral', 'neutral', 'neutral', 'neutral', 'negative', 'positive',\n",
              "       'neutral', 'neutral', 'neutral', 'neutral', 'neutral', 'positive',\n",
              "       'neutral', 'neutral', 'neutral', 'neutral', 'neutral', 'positive',\n",
              "       'neutral', 'positive', 'neutral', 'neutral', 'neutral', 'neutral',\n",
              "       'neutral', 'positive', 'positive', 'positive', 'neutral',\n",
              "       'neutral', 'neutral', 'neutral', 'neutral', 'neutral', 'neutral',\n",
              "       'neutral', 'neutral', 'neutral', 'neutral', 'neutral', 'neutral',\n",
              "       'neutral', 'neutral', 'neutral', 'positive', 'neutral', 'neutral',\n",
              "       'neutral', 'neutral', 'neutral', 'neutral', 'positive', 'neutral',\n",
              "       'neutral', 'neutral', 'neutral', 'neutral', 'neutral', 'neutral',\n",
              "       'neutral', 'neutral', 'neutral', 'neutral', 'neutral', 'positive',\n",
              "       'neutral', 'neutral', 'positive', 'neutral', 'positive', 'neutral',\n",
              "       'neutral', 'neutral', 'neutral', 'neutral', 'neutral', 'positive',\n",
              "       'neutral', 'neutral', 'neutral', 'neutral', 'neutral', 'neutral',\n",
              "       'positive', 'neutral', 'neutral', 'neutral', 'neutral', 'positive',\n",
              "       'neutral', 'positive', 'positive', 'neutral', 'neutral', 'neutral',\n",
              "       'neutral', 'positive', 'positive', 'positive', 'positive',\n",
              "       'neutral', 'neutral', 'neutral', 'neutral', 'neutral', 'neutral',\n",
              "       'neutral', 'neutral', 'neutral', 'neutral', 'neutral', 'neutral',\n",
              "       'neutral', 'neutral', 'neutral', 'neutral', 'positive', 'neutral',\n",
              "       'neutral', 'neutral', 'negative', 'neutral', 'neutral', 'neutral',\n",
              "       'neutral', 'neutral', 'neutral', 'neutral', 'positive', 'neutral',\n",
              "       'neutral', 'neutral', 'positive', 'neutral', 'neutral', 'neutral',\n",
              "       'positive', 'neutral', 'neutral', 'neutral', 'neutral', 'neutral',\n",
              "       'neutral', 'neutral', 'neutral', 'neutral', 'positive', 'positive',\n",
              "       'neutral', 'neutral', 'positive', 'neutral', 'neutral', 'neutral',\n",
              "       'neutral', 'neutral', 'neutral', 'neutral', 'neutral', 'neutral',\n",
              "       'neutral', 'neutral', 'neutral', 'neutral', 'neutral', 'neutral',\n",
              "       'neutral', 'neutral', 'neutral', 'neutral', 'neutral', 'neutral',\n",
              "       'neutral', 'neutral', 'neutral', 'negative', 'neutral', 'positive',\n",
              "       'neutral', 'neutral', 'positive', 'neutral', 'positive', 'neutral',\n",
              "       'neutral', 'neutral', 'neutral', 'neutral', 'neutral', 'positive',\n",
              "       'neutral', 'neutral', 'neutral', 'neutral', 'neutral', 'neutral',\n",
              "       'neutral', 'neutral', 'neutral', 'positive', 'positive', 'neutral',\n",
              "       'positive', 'neutral', 'neutral', 'neutral', 'neutral', 'neutral',\n",
              "       'neutral', 'neutral', 'positive', 'neutral', 'neutral', 'neutral',\n",
              "       'positive', 'neutral', 'neutral', 'neutral', 'positive', 'neutral',\n",
              "       'neutral', 'neutral', 'positive', 'neutral', 'positive', 'neutral',\n",
              "       'neutral', 'neutral', 'neutral', 'neutral', 'neutral', 'neutral',\n",
              "       'neutral', 'neutral', 'neutral', 'neutral', 'neutral', 'positive',\n",
              "       'neutral', 'neutral', 'neutral', 'neutral', 'positive', 'neutral',\n",
              "       'positive', 'neutral', 'neutral', 'positive', 'positive',\n",
              "       'neutral', 'positive', 'positive', 'neutral', 'neutral', 'neutral',\n",
              "       'neutral', 'positive', 'positive', 'positive', 'positive',\n",
              "       'neutral', 'neutral', 'positive', 'neutral', 'neutral', 'neutral',\n",
              "       'neutral', 'neutral', 'neutral', 'neutral', 'neutral', 'neutral',\n",
              "       'neutral', 'positive', 'neutral', 'neutral', 'neutral', 'positive',\n",
              "       'neutral', 'neutral', 'neutral', 'neutral', 'neutral', 'neutral',\n",
              "       'neutral', 'neutral', 'positive', 'neutral', 'neutral', 'neutral',\n",
              "       'neutral', 'neutral', 'neutral', 'neutral', 'neutral', 'neutral',\n",
              "       'positive', 'neutral', 'neutral', 'neutral', 'neutral', 'neutral',\n",
              "       'neutral', 'neutral', 'neutral', 'neutral', 'neutral', 'neutral',\n",
              "       'neutral', 'neutral', 'neutral', 'neutral', 'positive', 'neutral',\n",
              "       'neutral', 'neutral', 'neutral', 'neutral', 'neutral', 'neutral',\n",
              "       'neutral', 'neutral', 'neutral', 'positive', 'neutral', 'neutral',\n",
              "       'positive', 'positive', 'positive', 'positive', 'neutral',\n",
              "       'positive', 'neutral', 'neutral', 'neutral', 'neutral', 'neutral',\n",
              "       'neutral', 'neutral', 'neutral', 'neutral', 'positive', 'neutral',\n",
              "       'positive', 'neutral', 'positive', 'neutral', 'neutral', 'neutral',\n",
              "       'neutral', 'neutral', 'neutral', 'neutral', 'neutral', 'neutral',\n",
              "       'neutral', 'neutral', 'neutral', 'neutral', 'neutral', 'neutral',\n",
              "       'neutral', 'negative', 'neutral', 'neutral', 'neutral', 'neutral',\n",
              "       'positive', 'neutral', 'positive', 'neutral', 'positive',\n",
              "       'neutral', 'positive', 'neutral', 'neutral', 'neutral', 'neutral',\n",
              "       'neutral', 'neutral', 'neutral', 'neutral', 'neutral', 'neutral',\n",
              "       'positive', 'neutral', 'neutral', 'neutral', 'neutral', 'neutral',\n",
              "       'neutral', 'neutral', 'neutral', 'neutral', 'neutral', 'neutral',\n",
              "       'neutral', 'neutral', 'neutral', 'positive', 'neutral', 'positive',\n",
              "       'neutral', 'neutral', 'neutral', 'neutral', 'neutral', 'negative',\n",
              "       'neutral', 'neutral', 'neutral', 'neutral', 'neutral', 'neutral',\n",
              "       'neutral', 'positive', 'neutral', 'neutral', 'positive',\n",
              "       'positive', 'neutral', 'neutral', 'neutral', 'neutral', 'neutral',\n",
              "       'neutral', 'neutral', 'neutral', 'neutral', 'neutral', 'neutral',\n",
              "       'neutral', 'neutral', 'positive', 'neutral', 'positive'],\n",
              "      dtype=object)"
            ]
          },
          "metadata": {},
          "execution_count": 221
        }
      ]
    },
    {
      "cell_type": "code",
      "source": [],
      "metadata": {
        "id": "l7ZV-pXfWNxE"
      },
      "execution_count": null,
      "outputs": []
    }
  ]
}